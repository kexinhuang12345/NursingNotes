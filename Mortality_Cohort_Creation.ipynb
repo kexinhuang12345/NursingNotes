{
 "cells": [
  {
   "cell_type": "code",
   "execution_count": 1,
   "metadata": {},
   "outputs": [],
   "source": [
    "import pandas as pd\n",
    "import numpy as np\n",
    "import matplotlib.pyplot as plt\n",
    "from tqdm import tqdm"
   ]
  },
  {
   "cell_type": "code",
   "execution_count": 2,
   "metadata": {},
   "outputs": [
    {
     "name": "stderr",
     "output_type": "stream",
     "text": [
      "/share/apps/python3/3.6.3/intel/lib/python3.6/site-packages/ipython-6.2.1-py3.6.egg/IPython/core/interactiveshell.py:2728: DtypeWarning: Columns (4,5) have mixed types. Specify dtype option on import or set low_memory=False.\n",
      "  interactivity=interactivity, compiler=compiler, result=result)\n"
     ]
    }
   ],
   "source": [
    "df_notes = pd.read_csv('/scratch/kh2383/MIMIC/1.4/NOTEEVENTS.csv')"
   ]
  },
  {
   "cell_type": "code",
   "execution_count": 3,
   "metadata": {},
   "outputs": [],
   "source": [
    "df_adm = pd.read_csv('/scratch/kh2383/MIMIC/1.4/ADMISSIONS.csv')\n",
    "df_patients = pd.read_csv('/scratch/kh2383/MIMIC/1.4/PATIENTS.csv')\n",
    "df_icus = pd.read_csv('/scratch/kh2383/MIMIC/1.4/ICUSTAYS.csv')"
   ]
  },
  {
   "cell_type": "code",
   "execution_count": 4,
   "metadata": {},
   "outputs": [],
   "source": [
    "df_icus.INTIME = pd.to_datetime(df_icus.INTIME, format = '%Y-%m-%d %H:%M:%S', errors = 'coerce')"
   ]
  },
  {
   "cell_type": "code",
   "execution_count": 5,
   "metadata": {},
   "outputs": [
    {
     "data": {
      "text/plain": [
       "61532"
      ]
     },
     "execution_count": 5,
     "metadata": {},
     "output_type": "execute_result"
    }
   ],
   "source": [
    "len(df_icus)"
   ]
  },
  {
   "cell_type": "code",
   "execution_count": 6,
   "metadata": {},
   "outputs": [
    {
     "data": {
      "text/plain": [
       "57786"
      ]
     },
     "execution_count": 6,
     "metadata": {},
     "output_type": "execute_result"
    }
   ],
   "source": [
    "len(df_icus.HADM_ID.unique())"
   ]
  },
  {
   "cell_type": "code",
   "execution_count": 7,
   "metadata": {},
   "outputs": [],
   "source": [
    "df_icu_first = df_icus.sort_values(['INTIME']).groupby('HADM_ID').head(1)"
   ]
  },
  {
   "cell_type": "code",
   "execution_count": 8,
   "metadata": {},
   "outputs": [
    {
     "data": {
      "text/plain": [
       "57786"
      ]
     },
     "execution_count": 8,
     "metadata": {},
     "output_type": "execute_result"
    }
   ],
   "source": [
    "len(df_icu_first)"
   ]
  },
  {
   "cell_type": "code",
   "execution_count": 9,
   "metadata": {},
   "outputs": [
    {
     "data": {
      "text/plain": [
       "58976"
      ]
     },
     "execution_count": 9,
     "metadata": {},
     "output_type": "execute_result"
    }
   ],
   "source": [
    "len(df_adm)"
   ]
  },
  {
   "cell_type": "code",
   "execution_count": 10,
   "metadata": {},
   "outputs": [],
   "source": [
    "df_adm = pd.merge(df_adm, df_icu_first[['HADM_ID','LOS']], on = 'HADM_ID')"
   ]
  },
  {
   "cell_type": "code",
   "execution_count": 11,
   "metadata": {},
   "outputs": [
    {
     "data": {
      "text/plain": [
       "array(['ROW_ID', 'SUBJECT_ID', 'HADM_ID', 'ADMITTIME', 'DISCHTIME',\n",
       "       'DEATHTIME', 'ADMISSION_TYPE', 'ADMISSION_LOCATION',\n",
       "       'DISCHARGE_LOCATION', 'INSURANCE', 'LANGUAGE', 'RELIGION',\n",
       "       'MARITAL_STATUS', 'ETHNICITY', 'EDREGTIME', 'EDOUTTIME',\n",
       "       'DIAGNOSIS', 'HOSPITAL_EXPIRE_FLAG', 'HAS_CHARTEVENTS_DATA', 'LOS'], dtype=object)"
      ]
     },
     "execution_count": 11,
     "metadata": {},
     "output_type": "execute_result"
    }
   ],
   "source": [
    "df_adm.columns.values"
   ]
  },
  {
   "cell_type": "code",
   "execution_count": 12,
   "metadata": {},
   "outputs": [
    {
     "data": {
      "text/plain": [
       "array(['ROW_ID', 'SUBJECT_ID', 'GENDER', 'DOB', 'DOD', 'DOD_HOSP',\n",
       "       'DOD_SSN', 'EXPIRE_FLAG'], dtype=object)"
      ]
     },
     "execution_count": 12,
     "metadata": {},
     "output_type": "execute_result"
    }
   ],
   "source": [
    "df_patients.columns.values"
   ]
  },
  {
   "cell_type": "code",
   "execution_count": 13,
   "metadata": {},
   "outputs": [],
   "source": [
    "df = pd.merge(df_adm, df_patients, on = ['SUBJECT_ID'])"
   ]
  },
  {
   "cell_type": "code",
   "execution_count": 14,
   "metadata": {},
   "outputs": [
    {
     "data": {
      "text/plain": [
       "57786"
      ]
     },
     "execution_count": 14,
     "metadata": {},
     "output_type": "execute_result"
    }
   ],
   "source": [
    "len(df)"
   ]
  },
  {
   "cell_type": "code",
   "execution_count": 15,
   "metadata": {},
   "outputs": [],
   "source": [
    "df_notes_physician = df_notes[df_notes.CATEGORY == 'Physician ']"
   ]
  },
  {
   "cell_type": "code",
   "execution_count": 16,
   "metadata": {},
   "outputs": [
    {
     "data": {
      "text/plain": [
       "8984"
      ]
     },
     "execution_count": 16,
     "metadata": {},
     "output_type": "execute_result"
    }
   ],
   "source": [
    "len(df_notes_physician.HADM_ID.unique())"
   ]
  },
  {
   "cell_type": "code",
   "execution_count": 17,
   "metadata": {},
   "outputs": [],
   "source": [
    "cohort = df_notes_physician.HADM_ID.unique()"
   ]
  },
  {
   "cell_type": "code",
   "execution_count": 18,
   "metadata": {},
   "outputs": [
    {
     "data": {
      "text/plain": [
       "8984"
      ]
     },
     "execution_count": 18,
     "metadata": {},
     "output_type": "execute_result"
    }
   ],
   "source": [
    "len(cohort)"
   ]
  },
  {
   "cell_type": "code",
   "execution_count": 19,
   "metadata": {},
   "outputs": [],
   "source": [
    "df = df[df.HADM_ID.isin(cohort)]"
   ]
  },
  {
   "cell_type": "code",
   "execution_count": 20,
   "metadata": {},
   "outputs": [
    {
     "data": {
      "text/plain": [
       "8981"
      ]
     },
     "execution_count": 20,
     "metadata": {},
     "output_type": "execute_result"
    }
   ],
   "source": [
    "len(df)"
   ]
  },
  {
   "cell_type": "code",
   "execution_count": 21,
   "metadata": {},
   "outputs": [],
   "source": [
    "df_info = df[['SUBJECT_ID', 'HADM_ID', 'ADMITTIME','DISCHTIME', 'DOB', 'DOD_HOSP','LOS']].drop_duplicates().reset_index(drop = True)"
   ]
  },
  {
   "cell_type": "code",
   "execution_count": 22,
   "metadata": {},
   "outputs": [
    {
     "name": "stderr",
     "output_type": "stream",
     "text": [
      "/home/kh2383/pytorch-gpu/py3.6.3/lib/python3.6/site-packages/ipykernel_launcher.py:1: UserWarning: Pandas doesn't allow columns to be created via a new attribute name - see https://pandas.pydata.org/pandas-docs/stable/indexing.html#attribute-access\n",
      "  \"\"\"Entry point for launching an IPython kernel.\n"
     ]
    }
   ],
   "source": [
    "df_info.DOD = pd.to_datetime(df_info.DOD_HOSP, format = '%Y-%m-%d %H:%M:%S', errors = 'coerce')\n",
    "df_info.DOB = pd.to_datetime(df_info.DOB, format = '%Y-%m-%d %H:%M:%S', errors = 'coerce')\n",
    "df_info.ADMITTIME = pd.to_datetime(df_info.ADMITTIME, format = '%Y-%m-%d %H:%M:%S', errors = 'coerce')\n",
    "df_info.DISCHTIME = pd.to_datetime(df_info.DISCHTIME, format = '%Y-%m-%d %H:%M:%S', errors = 'coerce')"
   ]
  },
  {
   "cell_type": "code",
   "execution_count": 23,
   "metadata": {},
   "outputs": [],
   "source": [
    "df_info = df_info.assign(DEATH_HOSP = [1 if i else 0 for i in (df_info.DOD_HOSP.notnull())])"
   ]
  },
  {
   "cell_type": "code",
   "execution_count": 24,
   "metadata": {},
   "outputs": [
    {
     "data": {
      "text/plain": [
       "0    6276\n",
       "1    2705\n",
       "Name: DEATH_HOSP, dtype: int64"
      ]
     },
     "execution_count": 24,
     "metadata": {},
     "output_type": "execute_result"
    }
   ],
   "source": [
    "df_info.DEATH_HOSP.value_counts()"
   ]
  },
  {
   "cell_type": "code",
   "execution_count": 25,
   "metadata": {},
   "outputs": [
    {
     "data": {
      "text/plain": [
       "8981"
      ]
     },
     "execution_count": 25,
     "metadata": {},
     "output_type": "execute_result"
    }
   ],
   "source": [
    "len(df_info)"
   ]
  },
  {
   "cell_type": "code",
   "execution_count": 26,
   "metadata": {},
   "outputs": [],
   "source": [
    "df_info = df_info.assign(AGE = ((df_info['ADMITTIME']-df_info['DOB']).dt.total_seconds()/(60*60*24*365)))\n",
    "df_info = df_info.assign(LOS_HOS = ((df_info['DISCHTIME']-df_info['ADMITTIME']).dt.total_seconds()/(60*60*24)))\n",
    "df_info = df_info.assign(LOS_7 = [1 if i else 0 for i in (df_info.LOS >= 7)])"
   ]
  },
  {
   "cell_type": "code",
   "execution_count": 27,
   "metadata": {},
   "outputs": [
    {
     "data": {
      "text/plain": [
       "0    7935\n",
       "1    1046\n",
       "Name: LOS_7, dtype: int64"
      ]
     },
     "execution_count": 27,
     "metadata": {},
     "output_type": "execute_result"
    }
   ],
   "source": [
    "df_info.LOS_7.value_counts()"
   ]
  },
  {
   "cell_type": "code",
   "execution_count": 28,
   "metadata": {},
   "outputs": [],
   "source": [
    "df_info = df_info.assign(Label = [1 if i else 0 for i in ((df_info.LOS_7 == 1) | (df_info.DEATH_HOSP == 1))])"
   ]
  },
  {
   "cell_type": "code",
   "execution_count": 29,
   "metadata": {},
   "outputs": [
    {
     "data": {
      "text/plain": [
       "0    5637\n",
       "1    3344\n",
       "Name: Label, dtype: int64"
      ]
     },
     "execution_count": 29,
     "metadata": {},
     "output_type": "execute_result"
    }
   ],
   "source": [
    "df_info.Label.value_counts()"
   ]
  },
  {
   "cell_type": "code",
   "execution_count": 30,
   "metadata": {},
   "outputs": [],
   "source": [
    "# what is care limitaion?\n",
    "df_info = df_info[df_info.AGE>=18]"
   ]
  },
  {
   "cell_type": "code",
   "execution_count": 31,
   "metadata": {},
   "outputs": [
    {
     "data": {
      "text/plain": [
       "8469"
      ]
     },
     "execution_count": 31,
     "metadata": {},
     "output_type": "execute_result"
    }
   ],
   "source": [
    "len(df_info.reset_index(drop = True))"
   ]
  },
  {
   "cell_type": "code",
   "execution_count": 32,
   "metadata": {},
   "outputs": [],
   "source": [
    "df_info = df_info[df_info.LOS_HOS >= 2].reset_index(drop = True) # 48 hours LOS"
   ]
  },
  {
   "cell_type": "code",
   "execution_count": 33,
   "metadata": {},
   "outputs": [
    {
     "data": {
      "text/plain": [
       "7718"
      ]
     },
     "execution_count": 33,
     "metadata": {},
     "output_type": "execute_result"
    }
   ],
   "source": [
    "len(df_info)"
   ]
  },
  {
   "cell_type": "code",
   "execution_count": 34,
   "metadata": {},
   "outputs": [
    {
     "name": "stderr",
     "output_type": "stream",
     "text": [
      "/share/apps/python3/3.6.3/intel/lib/python3.6/site-packages/pandas-0.22.0-py3.6-linux-x86_64.egg/pandas/core/generic.py:3643: SettingWithCopyWarning: \n",
      "A value is trying to be set on a copy of a slice from a DataFrame.\n",
      "Try using .loc[row_indexer,col_indexer] = value instead\n",
      "\n",
      "See the caveats in the documentation: http://pandas.pydata.org/pandas-docs/stable/indexing.html#indexing-view-versus-copy\n",
      "  self[name] = value\n"
     ]
    }
   ],
   "source": [
    "df_notes_interest = df_notes[df_notes.CATEGORY.isin(['Physician ', 'Nursing', 'Nursing/other'])]\n",
    "df_notes_interest.CHARTTIME = pd.to_datetime(df_notes_interest.CHARTTIME, format = '%Y-%m-%d %H:%M:%S', errors = 'coerce')"
   ]
  },
  {
   "cell_type": "code",
   "execution_count": 35,
   "metadata": {},
   "outputs": [],
   "source": [
    "df_notes_info = pd.merge(df_notes_interest, df_info, on = 'HADM_ID')"
   ]
  },
  {
   "cell_type": "code",
   "execution_count": 36,
   "metadata": {},
   "outputs": [
    {
     "data": {
      "text/plain": [
       "7718"
      ]
     },
     "execution_count": 36,
     "metadata": {},
     "output_type": "execute_result"
    }
   ],
   "source": [
    "len(df_notes_info.HADM_ID.unique())"
   ]
  },
  {
   "cell_type": "code",
   "execution_count": 37,
   "metadata": {},
   "outputs": [
    {
     "data": {
      "text/plain": [
       "335596"
      ]
     },
     "execution_count": 37,
     "metadata": {},
     "output_type": "execute_result"
    }
   ],
   "source": [
    "len(df_notes_info)"
   ]
  },
  {
   "cell_type": "code",
   "execution_count": 38,
   "metadata": {},
   "outputs": [],
   "source": [
    "# within 48 hours of notes\n",
    "df_notes_info = df_notes_info[(df_notes_info.CHARTTIME - df_notes_info.ADMITTIME).dt.total_seconds()/(60*60) < 48]"
   ]
  },
  {
   "cell_type": "code",
   "execution_count": 39,
   "metadata": {},
   "outputs": [
    {
     "data": {
      "text/plain": [
       "6521"
      ]
     },
     "execution_count": 39,
     "metadata": {},
     "output_type": "execute_result"
    }
   ],
   "source": [
    "len(df_notes_info.HADM_ID.unique())"
   ]
  },
  {
   "cell_type": "code",
   "execution_count": 40,
   "metadata": {},
   "outputs": [],
   "source": [
    "# not null notes\n",
    "df_notes_info = df_notes_info[df_notes_info.TEXT.notnull()]"
   ]
  },
  {
   "cell_type": "code",
   "execution_count": 41,
   "metadata": {},
   "outputs": [
    {
     "data": {
      "text/plain": [
       "6521"
      ]
     },
     "execution_count": 41,
     "metadata": {},
     "output_type": "execute_result"
    }
   ],
   "source": [
    "len(df_notes_info.HADM_ID.unique())"
   ]
  },
  {
   "cell_type": "code",
   "execution_count": 42,
   "metadata": {},
   "outputs": [],
   "source": [
    "# remove iserror notes\n",
    "df_notes_info = df_notes_info[df_notes_info.ISERROR.isnull()]"
   ]
  },
  {
   "cell_type": "code",
   "execution_count": 43,
   "metadata": {},
   "outputs": [
    {
     "data": {
      "text/plain": [
       "6521"
      ]
     },
     "execution_count": 43,
     "metadata": {},
     "output_type": "execute_result"
    }
   ],
   "source": [
    "len(df_notes_info.HADM_ID.unique())"
   ]
  },
  {
   "cell_type": "code",
   "execution_count": 44,
   "metadata": {},
   "outputs": [],
   "source": [
    "df_final = df_notes_info[['HADM_ID', 'TEXT', 'CHARTTIME','CATEGORY','Label','DEATH_HOSP','LOS']].drop_duplicates().reset_index(drop = True)"
   ]
  },
  {
   "cell_type": "code",
   "execution_count": 45,
   "metadata": {},
   "outputs": [
    {
     "data": {
      "text/plain": [
       "6521"
      ]
     },
     "execution_count": 45,
     "metadata": {},
     "output_type": "execute_result"
    }
   ],
   "source": [
    "len(df_final.HADM_ID.unique())"
   ]
  },
  {
   "cell_type": "code",
   "execution_count": 46,
   "metadata": {},
   "outputs": [
    {
     "data": {
      "text/plain": [
       "0    4180\n",
       "1    2341\n",
       "Name: Label, dtype: int64"
      ]
     },
     "execution_count": 46,
     "metadata": {},
     "output_type": "execute_result"
    }
   ],
   "source": [
    "df_final[['HADM_ID','Label']].drop_duplicates().reset_index(drop = True).Label.value_counts()"
   ]
  },
  {
   "cell_type": "code",
   "execution_count": null,
   "metadata": {},
   "outputs": [],
   "source": []
  },
  {
   "cell_type": "code",
   "execution_count": 47,
   "metadata": {},
   "outputs": [
    {
     "name": "stderr",
     "output_type": "stream",
     "text": [
      "[nltk_data] Downloading package wordnet to /home/kh2383/nltk_data...\n",
      "[nltk_data]   Package wordnet is already up-to-date!\n"
     ]
    }
   ],
   "source": [
    "from gensim.utils import simple_preprocess\n",
    "from gensim.parsing.preprocessing import STOPWORDS\n",
    "from nltk.stem import WordNetLemmatizer, SnowballStemmer\n",
    "from nltk import PorterStemmer\n",
    "import nltk\n",
    "nltk.download('wordnet')\n",
    "\n",
    "stemmer = SnowballStemmer(\"english\")\n",
    "lemmatizer = WordNetLemmatizer()\n",
    "def lemmatize_stemming(text):\n",
    "    return ' '.join([stemmer.stem(i) for i in (lemmatizer.lemmatize(j) for j in text.split())])"
   ]
  },
  {
   "cell_type": "code",
   "execution_count": null,
   "metadata": {},
   "outputs": [],
   "source": []
  },
  {
   "cell_type": "code",
   "execution_count": 48,
   "metadata": {},
   "outputs": [],
   "source": [
    "import re\n",
    "import string\n",
    "\n",
    "def preprocess1(x):\n",
    "    y=re.sub('\\\\[(.*?)\\\\]','',x) #remove de-identified brackets\n",
    "    y=re.sub('[0-9]+\\.','',y) #remove 1.2. since the segmenter segments based on this\n",
    "    y=re.sub('dr\\.','doctor',y)\n",
    "    y=re.sub('m\\.d\\.','md',y)\n",
    "    y=re.sub('--|__|==','',y)\n",
    "    \n",
    "    # remove punctuation, digits, spaces\n",
    "    #y = y.translate(str.maketrans(\"\", \"\", string.punctuation))\n",
    "    y = y.translate(str.maketrans(\"\", \"\", string.digits))\n",
    "    y = \" \".join(y.split())\n",
    "    return y\n",
    "\n",
    "def preprocessing_note(df_less_n): \n",
    "    df_less_n['TEXT']=df_less_n['TEXT'].fillna(' ')\n",
    "    df_less_n['TEXT']=df_less_n['TEXT'].str.replace('\\n',' ')\n",
    "    df_less_n['TEXT']=df_less_n['TEXT'].str.replace('\\r',' ')\n",
    "    df_less_n['TEXT']=df_less_n['TEXT'].apply(str.strip)\n",
    "    df_less_n['TEXT']=df_less_n['TEXT'].str.lower()\n",
    "\n",
    "    df_less_n['TEXT']=df_less_n['TEXT'].apply(lambda x: preprocess1(x))\n",
    "    df_less_n['TEXT']=df_less_n['TEXT'].apply(lambda x: lemmatize_stemming(x))\n",
    "\n",
    "    df_less_n['# of tokens'] = df_less_n['TEXT'].str.split().str.len()\n",
    "    df_less_n = df_less_n[df_less_n['# of tokens'] > 5]\n",
    "    return df_less_n\n"
   ]
  },
  {
   "cell_type": "code",
   "execution_count": null,
   "metadata": {},
   "outputs": [],
   "source": []
  },
  {
   "cell_type": "code",
   "execution_count": 57,
   "metadata": {},
   "outputs": [],
   "source": [
    "df_final[df_final.CATEGORY == 'Physician ']['TEXT'].to_csv('./physician_raw.csv')"
   ]
  },
  {
   "cell_type": "code",
   "execution_count": 59,
   "metadata": {},
   "outputs": [],
   "source": [
    "df_final[df_final.CATEGORY.isin(['Nursing', 'Nursing/other'])]['TEXT'].to_csv('./nursing_raw.csv')"
   ]
  },
  {
   "cell_type": "code",
   "execution_count": 61,
   "metadata": {},
   "outputs": [],
   "source": [
    "df_use[df_use.CATEGORY == 'Physician ']['TEXT'].to_csv('./physician_preprocessed.csv')"
   ]
  },
  {
   "cell_type": "code",
   "execution_count": 62,
   "metadata": {},
   "outputs": [],
   "source": [
    "df_use[df_use.CATEGORY.isin(['Nursing', 'Nursing/other'])]['TEXT'].to_csv('./nursing_preprocessed.csv')"
   ]
  },
  {
   "cell_type": "code",
   "execution_count": null,
   "metadata": {},
   "outputs": [],
   "source": []
  },
  {
   "cell_type": "code",
   "execution_count": 58,
   "metadata": {},
   "outputs": [],
   "source": [
    "df_use = preprocessing_note(df_final)"
   ]
  },
  {
   "cell_type": "code",
   "execution_count": 164,
   "metadata": {},
   "outputs": [],
   "source": [
    "!mkdir /scratch/kh2383/Mortality/data/fold10"
   ]
  },
  {
   "cell_type": "code",
   "execution_count": 165,
   "metadata": {},
   "outputs": [
    {
     "name": "stderr",
     "output_type": "stream",
     "text": [
      "100%|██████████| 5/5 [01:02<00:00, 12.46s/it]\n"
     ]
    }
   ],
   "source": [
    "# create one untouchable test set first (instead of create five) just to enlarge the pretraining notes size\n",
    "df_HADM_ID = df_use.HADM_ID.drop_duplicates().reset_index(drop = True)\n",
    "test_id = df_HADM_ID.sample(frac = 0.1, replace = False, random_state = 1)\n",
    "test = df_use[df_use.HADM_ID.isin(test_id.values)]\n",
    "test.reset_index(drop = True).to_csv('/scratch/kh2383/Mortality/data/test.csv')\n",
    "\n",
    "train_val_id = df_HADM_ID[~df_HADM_ID.index.isin(test_id.index)]\n",
    "\n",
    "for i in tqdm(range(6,11)):\n",
    "    val_id = train_val_id.sample(frac = 1/9, replace = False, random_state = i)\n",
    "    train_id = train_val_id[~train_val_id.index.isin(val_id.index)]\n",
    "        \n",
    "    train = df_use[df_use.HADM_ID.isin(train_id.values)]\n",
    "    val = df_use[df_use.HADM_ID.isin(val_id.values)]\n",
    "    train_val = df_use[df_use.HADM_ID.isin(train_val_id)]\n",
    "    \n",
    "    path = '/scratch/kh2383/Mortality/data/fold'+str(i)\n",
    "    train.reset_index(drop = True).to_csv(path + '/train.csv')\n",
    "    val.reset_index(drop = True).to_csv(path + '/val.csv')\n",
    "    train_val.reset_index(drop = True).to_csv(path + '/train_val.csv')"
   ]
  },
  {
   "cell_type": "code",
   "execution_count": 83,
   "metadata": {},
   "outputs": [],
   "source": [
    "df_use[df_use.CATEGORY == 'Physician '].reset_index(drop = True).to_csv('/scratch/kh2383/Mortality/data/physician.csv')\n",
    "df_use[df_use.CATEGORY.isin(['Nursing', 'Nursing/other'])].reset_index(drop = True).to_csv('/scratch/kh2383/Mortality/data/nursing.csv')"
   ]
  },
  {
   "cell_type": "code",
   "execution_count": 84,
   "metadata": {},
   "outputs": [
    {
     "data": {
      "text/plain": [
       "Nursing          61569\n",
       "Physician        41478\n",
       "Nursing/other      300\n",
       "Name: CATEGORY, dtype: int64"
      ]
     },
     "execution_count": 84,
     "metadata": {},
     "output_type": "execute_result"
    }
   ],
   "source": [
    "df_use.CATEGORY.value_counts()"
   ]
  },
  {
   "cell_type": "code",
   "execution_count": 119,
   "metadata": {},
   "outputs": [
    {
     "data": {
      "text/plain": [
       "6521"
      ]
     },
     "execution_count": 119,
     "metadata": {},
     "output_type": "execute_result"
    }
   ],
   "source": [
    "len(df_use.HADM_ID.unique())"
   ]
  },
  {
   "cell_type": "code",
   "execution_count": null,
   "metadata": {},
   "outputs": [],
   "source": []
  },
  {
   "cell_type": "code",
   "execution_count": 85,
   "metadata": {},
   "outputs": [],
   "source": [
    "from tableone import TableOne"
   ]
  },
  {
   "cell_type": "code",
   "execution_count": 88,
   "metadata": {},
   "outputs": [],
   "source": [
    "HADM_ID_use = df_use.HADM_ID.unique()"
   ]
  },
  {
   "cell_type": "code",
   "execution_count": 91,
   "metadata": {},
   "outputs": [],
   "source": [
    "df_info = df"
   ]
  },
  {
   "cell_type": "code",
   "execution_count": 94,
   "metadata": {},
   "outputs": [],
   "source": [
    "df_info.DOD = pd.to_datetime(df_info.DOD_HOSP, format = '%Y-%m-%d %H:%M:%S', errors = 'coerce')\n",
    "df_info.DOB = pd.to_datetime(df_info.DOB, format = '%Y-%m-%d %H:%M:%S', errors = 'coerce')\n",
    "df_info.ADMITTIME = pd.to_datetime(df_info.ADMITTIME, format = '%Y-%m-%d %H:%M:%S', errors = 'coerce')\n",
    "df_info.DISCHTIME = pd.to_datetime(df_info.DISCHTIME, format = '%Y-%m-%d %H:%M:%S', errors = 'coerce')\n",
    "df_info = df_info.assign(DEATH_HOSP = [1 if i else 0 for i in (df_info.DOD_HOSP.notnull())])\n",
    "df_info = df_info.assign(AGE = ((df_info['ADMITTIME']-df_info['DOB']).dt.total_seconds()/(60*60*24*365)))\n",
    "df_info = df_info.assign(LOS_HOS = ((df_info['DISCHTIME']-df_info['ADMITTIME']).dt.total_seconds()/(60*60*24)))\n",
    "df_info = df_info.assign(LOS_7 = [1 if i else 0 for i in (df_info.LOS >= 7)])\n",
    "df_info = df_info.assign(Label = [1 if i else 0 for i in ((df_info.LOS_7 == 1) | (df_info.DEATH_HOSP == 1))])"
   ]
  },
  {
   "cell_type": "code",
   "execution_count": 95,
   "metadata": {},
   "outputs": [
    {
     "data": {
      "text/plain": [
       "array(['ROW_ID_x', 'SUBJECT_ID', 'HADM_ID', 'ADMITTIME', 'DISCHTIME',\n",
       "       'DEATHTIME', 'ADMISSION_TYPE', 'ADMISSION_LOCATION',\n",
       "       'DISCHARGE_LOCATION', 'INSURANCE', 'LANGUAGE', 'RELIGION',\n",
       "       'MARITAL_STATUS', 'ETHNICITY', 'EDREGTIME', 'EDOUTTIME',\n",
       "       'DIAGNOSIS', 'HOSPITAL_EXPIRE_FLAG', 'HAS_CHARTEVENTS_DATA', 'LOS',\n",
       "       'ROW_ID_y', 'GENDER', 'DOB', 'DOD', 'DOD_HOSP', 'DOD_SSN',\n",
       "       'EXPIRE_FLAG', 'DEATH_HOSP', 'AGE', 'LOS_HOS', 'LOS_7', 'Label'], dtype=object)"
      ]
     },
     "execution_count": 95,
     "metadata": {},
     "output_type": "execute_result"
    }
   ],
   "source": [
    "df_info.columns.values"
   ]
  },
  {
   "cell_type": "code",
   "execution_count": 96,
   "metadata": {},
   "outputs": [],
   "source": [
    "df_info_ = df_info[df_info.HADM_ID.isin(HADM_ID_use)]"
   ]
  },
  {
   "cell_type": "code",
   "execution_count": 97,
   "metadata": {},
   "outputs": [
    {
     "data": {
      "text/plain": [
       "6521"
      ]
     },
     "execution_count": 97,
     "metadata": {},
     "output_type": "execute_result"
    }
   ],
   "source": [
    "len(df_info_)"
   ]
  },
  {
   "cell_type": "code",
   "execution_count": 114,
   "metadata": {},
   "outputs": [
    {
     "data": {
      "text/plain": [
       "M    3703\n",
       "F    2818\n",
       "Name: GENDER, dtype: int64"
      ]
     },
     "execution_count": 114,
     "metadata": {},
     "output_type": "execute_result"
    }
   ],
   "source": [
    "df_info_.GENDER.value_counts()"
   ]
  },
  {
   "cell_type": "code",
   "execution_count": 110,
   "metadata": {},
   "outputs": [],
   "source": [
    "columns = ['ADMISSION_TYPE', 'GENDER', 'ETHNICITY', 'LOS','LOS_HOS','AGE', 'DEATH_HOSP','LOS_7','Label']\n",
    "categorical = ['ADMISSION_TYPE','ETHNICITY','GENDER','DEATH_HOSP','LOS_7','Label']\n",
    "groupby = 'Label'"
   ]
  },
  {
   "cell_type": "code",
   "execution_count": 111,
   "metadata": {},
   "outputs": [
    {
     "name": "stderr",
     "output_type": "stream",
     "text": [
      "/home/kh2383/pytorch-gpu/py3.6.3/lib/python3.6/site-packages/tableone.py:638: UserWarning: No p-value was computed for ETHNICITY due to the low number of observations.\n",
      "  warnings.warn('No p-value was computed for {} due to the low number of observations.'.format(v))\n"
     ]
    }
   ],
   "source": [
    "mytable = TableOne(df_info_, columns, categorical, groupby, pval = True)"
   ]
  },
  {
   "cell_type": "code",
   "execution_count": 112,
   "metadata": {},
   "outputs": [
    {
     "data": {
      "text/html": [
       "<div>\n",
       "<style scoped>\n",
       "    .dataframe tbody tr th:only-of-type {\n",
       "        vertical-align: middle;\n",
       "    }\n",
       "\n",
       "    .dataframe tbody tr th {\n",
       "        vertical-align: top;\n",
       "    }\n",
       "\n",
       "    .dataframe thead tr th {\n",
       "        text-align: left;\n",
       "    }\n",
       "\n",
       "    .dataframe thead tr:last-of-type th {\n",
       "        text-align: right;\n",
       "    }\n",
       "</style>\n",
       "<table border=\"1\" class=\"dataframe\">\n",
       "  <thead>\n",
       "    <tr>\n",
       "      <th></th>\n",
       "      <th></th>\n",
       "      <th colspan=\"5\" halign=\"left\">Grouped by Label</th>\n",
       "    </tr>\n",
       "    <tr>\n",
       "      <th></th>\n",
       "      <th></th>\n",
       "      <th>isnull</th>\n",
       "      <th>0</th>\n",
       "      <th>1</th>\n",
       "      <th>pval</th>\n",
       "      <th>ptest</th>\n",
       "    </tr>\n",
       "    <tr>\n",
       "      <th>variable</th>\n",
       "      <th>level</th>\n",
       "      <th></th>\n",
       "      <th></th>\n",
       "      <th></th>\n",
       "      <th></th>\n",
       "      <th></th>\n",
       "    </tr>\n",
       "  </thead>\n",
       "  <tbody>\n",
       "    <tr>\n",
       "      <th>n</th>\n",
       "      <th></th>\n",
       "      <td></td>\n",
       "      <td>4180</td>\n",
       "      <td>2341</td>\n",
       "      <td></td>\n",
       "      <td></td>\n",
       "    </tr>\n",
       "    <tr>\n",
       "      <th rowspan=\"3\" valign=\"top\">ADMISSION_TYPE</th>\n",
       "      <th>ELECTIVE</th>\n",
       "      <td>0</td>\n",
       "      <td>742 (17.8)</td>\n",
       "      <td>157 (6.7)</td>\n",
       "      <td>&lt;0.001</td>\n",
       "      <td>Chi-squared</td>\n",
       "    </tr>\n",
       "    <tr>\n",
       "      <th>EMERGENCY</th>\n",
       "      <td></td>\n",
       "      <td>3390 (81.1)</td>\n",
       "      <td>2163 (92.4)</td>\n",
       "      <td></td>\n",
       "      <td></td>\n",
       "    </tr>\n",
       "    <tr>\n",
       "      <th>URGENT</th>\n",
       "      <td></td>\n",
       "      <td>48 (1.1)</td>\n",
       "      <td>21 (0.9)</td>\n",
       "      <td></td>\n",
       "      <td></td>\n",
       "    </tr>\n",
       "    <tr>\n",
       "      <th rowspan=\"2\" valign=\"top\">GENDER</th>\n",
       "      <th>F</th>\n",
       "      <td>0</td>\n",
       "      <td>1809 (43.3)</td>\n",
       "      <td>1009 (43.1)</td>\n",
       "      <td>0.911</td>\n",
       "      <td>Chi-squared</td>\n",
       "    </tr>\n",
       "    <tr>\n",
       "      <th>M</th>\n",
       "      <td></td>\n",
       "      <td>2371 (56.7)</td>\n",
       "      <td>1332 (56.9)</td>\n",
       "      <td></td>\n",
       "      <td></td>\n",
       "    </tr>\n",
       "    <tr>\n",
       "      <th rowspan=\"39\" valign=\"top\">ETHNICITY</th>\n",
       "      <th>AMERICAN INDIAN/ALASKA NATIVE</th>\n",
       "      <td>0</td>\n",
       "      <td>4 (0.1)</td>\n",
       "      <td>2 (0.1)</td>\n",
       "      <td>0.004</td>\n",
       "      <td>Chi-squared (warning: expected count &lt; 5)</td>\n",
       "    </tr>\n",
       "    <tr>\n",
       "      <th>AMERICAN INDIAN/ALASKA NATIVE FEDERALLY RECOGNIZED TRIBE</th>\n",
       "      <td></td>\n",
       "      <td></td>\n",
       "      <td>1 (0.0)</td>\n",
       "      <td></td>\n",
       "      <td></td>\n",
       "    </tr>\n",
       "    <tr>\n",
       "      <th>ASIAN</th>\n",
       "      <td></td>\n",
       "      <td>56 (1.3)</td>\n",
       "      <td>28 (1.2)</td>\n",
       "      <td></td>\n",
       "      <td></td>\n",
       "    </tr>\n",
       "    <tr>\n",
       "      <th>ASIAN - ASIAN INDIAN</th>\n",
       "      <td></td>\n",
       "      <td>16 (0.4)</td>\n",
       "      <td>2 (0.1)</td>\n",
       "      <td></td>\n",
       "      <td></td>\n",
       "    </tr>\n",
       "    <tr>\n",
       "      <th>ASIAN - CAMBODIAN</th>\n",
       "      <td></td>\n",
       "      <td>1 (0.0)</td>\n",
       "      <td></td>\n",
       "      <td></td>\n",
       "      <td></td>\n",
       "    </tr>\n",
       "    <tr>\n",
       "      <th>ASIAN - CHINESE</th>\n",
       "      <td></td>\n",
       "      <td>25 (0.6)</td>\n",
       "      <td>16 (0.7)</td>\n",
       "      <td></td>\n",
       "      <td></td>\n",
       "    </tr>\n",
       "    <tr>\n",
       "      <th>ASIAN - FILIPINO</th>\n",
       "      <td></td>\n",
       "      <td>1 (0.0)</td>\n",
       "      <td>2 (0.1)</td>\n",
       "      <td></td>\n",
       "      <td></td>\n",
       "    </tr>\n",
       "    <tr>\n",
       "      <th>ASIAN - JAPANESE</th>\n",
       "      <td></td>\n",
       "      <td>1 (0.0)</td>\n",
       "      <td>1 (0.0)</td>\n",
       "      <td></td>\n",
       "      <td></td>\n",
       "    </tr>\n",
       "    <tr>\n",
       "      <th>ASIAN - KOREAN</th>\n",
       "      <td></td>\n",
       "      <td>3 (0.1)</td>\n",
       "      <td>1 (0.0)</td>\n",
       "      <td></td>\n",
       "      <td></td>\n",
       "    </tr>\n",
       "    <tr>\n",
       "      <th>ASIAN - OTHER</th>\n",
       "      <td></td>\n",
       "      <td>1 (0.0)</td>\n",
       "      <td>1 (0.0)</td>\n",
       "      <td></td>\n",
       "      <td></td>\n",
       "    </tr>\n",
       "    <tr>\n",
       "      <th>ASIAN - THAI</th>\n",
       "      <td></td>\n",
       "      <td>1 (0.0)</td>\n",
       "      <td></td>\n",
       "      <td></td>\n",
       "      <td></td>\n",
       "    </tr>\n",
       "    <tr>\n",
       "      <th>ASIAN - VIETNAMESE</th>\n",
       "      <td></td>\n",
       "      <td>6 (0.1)</td>\n",
       "      <td>3 (0.1)</td>\n",
       "      <td></td>\n",
       "      <td></td>\n",
       "    </tr>\n",
       "    <tr>\n",
       "      <th>BLACK/AFRICAN</th>\n",
       "      <td></td>\n",
       "      <td>5 (0.1)</td>\n",
       "      <td>3 (0.1)</td>\n",
       "      <td></td>\n",
       "      <td></td>\n",
       "    </tr>\n",
       "    <tr>\n",
       "      <th>BLACK/AFRICAN AMERICAN</th>\n",
       "      <td></td>\n",
       "      <td>424 (10.1)</td>\n",
       "      <td>240 (10.3)</td>\n",
       "      <td></td>\n",
       "      <td></td>\n",
       "    </tr>\n",
       "    <tr>\n",
       "      <th>BLACK/CAPE VERDEAN</th>\n",
       "      <td></td>\n",
       "      <td>22 (0.5)</td>\n",
       "      <td>16 (0.7)</td>\n",
       "      <td></td>\n",
       "      <td></td>\n",
       "    </tr>\n",
       "    <tr>\n",
       "      <th>BLACK/HAITIAN</th>\n",
       "      <td></td>\n",
       "      <td>10 (0.2)</td>\n",
       "      <td>2 (0.1)</td>\n",
       "      <td></td>\n",
       "      <td></td>\n",
       "    </tr>\n",
       "    <tr>\n",
       "      <th>CARIBBEAN ISLAND</th>\n",
       "      <td></td>\n",
       "      <td>4 (0.1)</td>\n",
       "      <td></td>\n",
       "      <td></td>\n",
       "      <td></td>\n",
       "    </tr>\n",
       "    <tr>\n",
       "      <th>HISPANIC OR LATINO</th>\n",
       "      <td></td>\n",
       "      <td>140 (3.3)</td>\n",
       "      <td>47 (2.0)</td>\n",
       "      <td></td>\n",
       "      <td></td>\n",
       "    </tr>\n",
       "    <tr>\n",
       "      <th>HISPANIC/LATINO - CENTRAL AMERICAN (OTHER)</th>\n",
       "      <td></td>\n",
       "      <td>3 (0.1)</td>\n",
       "      <td></td>\n",
       "      <td></td>\n",
       "      <td></td>\n",
       "    </tr>\n",
       "    <tr>\n",
       "      <th>HISPANIC/LATINO - COLOMBIAN</th>\n",
       "      <td></td>\n",
       "      <td>1 (0.0)</td>\n",
       "      <td></td>\n",
       "      <td></td>\n",
       "      <td></td>\n",
       "    </tr>\n",
       "    <tr>\n",
       "      <th>HISPANIC/LATINO - CUBAN</th>\n",
       "      <td></td>\n",
       "      <td>5 (0.1)</td>\n",
       "      <td>1 (0.0)</td>\n",
       "      <td></td>\n",
       "      <td></td>\n",
       "    </tr>\n",
       "    <tr>\n",
       "      <th>HISPANIC/LATINO - DOMINICAN</th>\n",
       "      <td></td>\n",
       "      <td>11 (0.3)</td>\n",
       "      <td>4 (0.2)</td>\n",
       "      <td></td>\n",
       "      <td></td>\n",
       "    </tr>\n",
       "    <tr>\n",
       "      <th>HISPANIC/LATINO - GUATEMALAN</th>\n",
       "      <td></td>\n",
       "      <td>3 (0.1)</td>\n",
       "      <td>4 (0.2)</td>\n",
       "      <td></td>\n",
       "      <td></td>\n",
       "    </tr>\n",
       "    <tr>\n",
       "      <th>HISPANIC/LATINO - MEXICAN</th>\n",
       "      <td></td>\n",
       "      <td>4 (0.1)</td>\n",
       "      <td>1 (0.0)</td>\n",
       "      <td></td>\n",
       "      <td></td>\n",
       "    </tr>\n",
       "    <tr>\n",
       "      <th>HISPANIC/LATINO - PUERTO RICAN</th>\n",
       "      <td></td>\n",
       "      <td>29 (0.7)</td>\n",
       "      <td>19 (0.8)</td>\n",
       "      <td></td>\n",
       "      <td></td>\n",
       "    </tr>\n",
       "    <tr>\n",
       "      <th>HISPANIC/LATINO - SALVADORAN</th>\n",
       "      <td></td>\n",
       "      <td>4 (0.1)</td>\n",
       "      <td></td>\n",
       "      <td></td>\n",
       "      <td></td>\n",
       "    </tr>\n",
       "    <tr>\n",
       "      <th>MIDDLE EASTERN</th>\n",
       "      <td></td>\n",
       "      <td>4 (0.1)</td>\n",
       "      <td>1 (0.0)</td>\n",
       "      <td></td>\n",
       "      <td></td>\n",
       "    </tr>\n",
       "    <tr>\n",
       "      <th>MULTI RACE ETHNICITY</th>\n",
       "      <td></td>\n",
       "      <td>7 (0.2)</td>\n",
       "      <td>4 (0.2)</td>\n",
       "      <td></td>\n",
       "      <td></td>\n",
       "    </tr>\n",
       "    <tr>\n",
       "      <th>NATIVE HAWAIIAN OR OTHER PACIFIC ISLANDER</th>\n",
       "      <td></td>\n",
       "      <td>1 (0.0)</td>\n",
       "      <td></td>\n",
       "      <td></td>\n",
       "      <td></td>\n",
       "    </tr>\n",
       "    <tr>\n",
       "      <th>OTHER</th>\n",
       "      <td></td>\n",
       "      <td>55 (1.3)</td>\n",
       "      <td>43 (1.8)</td>\n",
       "      <td></td>\n",
       "      <td></td>\n",
       "    </tr>\n",
       "    <tr>\n",
       "      <th>PATIENT DECLINED TO ANSWER</th>\n",
       "      <td></td>\n",
       "      <td>49 (1.2)</td>\n",
       "      <td>11 (0.5)</td>\n",
       "      <td></td>\n",
       "      <td></td>\n",
       "    </tr>\n",
       "    <tr>\n",
       "      <th>PORTUGUESE</th>\n",
       "      <td></td>\n",
       "      <td>5 (0.1)</td>\n",
       "      <td>12 (0.5)</td>\n",
       "      <td></td>\n",
       "      <td></td>\n",
       "    </tr>\n",
       "    <tr>\n",
       "      <th>UNABLE TO OBTAIN</th>\n",
       "      <td></td>\n",
       "      <td>106 (2.5)</td>\n",
       "      <td>40 (1.7)</td>\n",
       "      <td></td>\n",
       "      <td></td>\n",
       "    </tr>\n",
       "    <tr>\n",
       "      <th>UNKNOWN/NOT SPECIFIED</th>\n",
       "      <td></td>\n",
       "      <td>80 (1.9)</td>\n",
       "      <td>33 (1.4)</td>\n",
       "      <td></td>\n",
       "      <td></td>\n",
       "    </tr>\n",
       "    <tr>\n",
       "      <th>WHITE</th>\n",
       "      <td></td>\n",
       "      <td>3060 (73.2)</td>\n",
       "      <td>1790 (76.5)</td>\n",
       "      <td></td>\n",
       "      <td></td>\n",
       "    </tr>\n",
       "    <tr>\n",
       "      <th>WHITE - BRAZILIAN</th>\n",
       "      <td></td>\n",
       "      <td>9 (0.2)</td>\n",
       "      <td>2 (0.1)</td>\n",
       "      <td></td>\n",
       "      <td></td>\n",
       "    </tr>\n",
       "    <tr>\n",
       "      <th>WHITE - EASTERN EUROPEAN</th>\n",
       "      <td></td>\n",
       "      <td>3 (0.1)</td>\n",
       "      <td></td>\n",
       "      <td></td>\n",
       "      <td></td>\n",
       "    </tr>\n",
       "    <tr>\n",
       "      <th>WHITE - OTHER EUROPEAN</th>\n",
       "      <td></td>\n",
       "      <td>7 (0.2)</td>\n",
       "      <td>4 (0.2)</td>\n",
       "      <td></td>\n",
       "      <td></td>\n",
       "    </tr>\n",
       "    <tr>\n",
       "      <th>WHITE - RUSSIAN</th>\n",
       "      <td></td>\n",
       "      <td>14 (0.3)</td>\n",
       "      <td>7 (0.3)</td>\n",
       "      <td></td>\n",
       "      <td></td>\n",
       "    </tr>\n",
       "    <tr>\n",
       "      <th>LOS</th>\n",
       "      <th></th>\n",
       "      <td>0</td>\n",
       "      <td>2.2 (1.4)</td>\n",
       "      <td>6.9 (8.1)</td>\n",
       "      <td>&lt;0.001</td>\n",
       "      <td>Two Sample T-test</td>\n",
       "    </tr>\n",
       "    <tr>\n",
       "      <th>LOS_HOS</th>\n",
       "      <th></th>\n",
       "      <td>0</td>\n",
       "      <td>7.2 (6.2)</td>\n",
       "      <td>12.5 (11.4)</td>\n",
       "      <td>&lt;0.001</td>\n",
       "      <td>Two Sample T-test</td>\n",
       "    </tr>\n",
       "    <tr>\n",
       "      <th>AGE</th>\n",
       "      <th></th>\n",
       "      <td>0</td>\n",
       "      <td>60.7 (17.0)</td>\n",
       "      <td>66.2 (15.2)</td>\n",
       "      <td>&lt;0.001</td>\n",
       "      <td>Two Sample T-test</td>\n",
       "    </tr>\n",
       "    <tr>\n",
       "      <th rowspan=\"2\" valign=\"top\">DEATH_HOSP</th>\n",
       "      <th>0</th>\n",
       "      <td>0</td>\n",
       "      <td>4180 (100.0)</td>\n",
       "      <td>542 (23.2)</td>\n",
       "      <td>&lt;0.001</td>\n",
       "      <td>Chi-squared</td>\n",
       "    </tr>\n",
       "    <tr>\n",
       "      <th>1</th>\n",
       "      <td></td>\n",
       "      <td></td>\n",
       "      <td>1799 (76.8)</td>\n",
       "      <td></td>\n",
       "      <td></td>\n",
       "    </tr>\n",
       "    <tr>\n",
       "      <th rowspan=\"2\" valign=\"top\">LOS_7</th>\n",
       "      <th>0</th>\n",
       "      <td>0</td>\n",
       "      <td>4180 (100.0)</td>\n",
       "      <td>1490 (63.6)</td>\n",
       "      <td>&lt;0.001</td>\n",
       "      <td>Chi-squared</td>\n",
       "    </tr>\n",
       "    <tr>\n",
       "      <th>1</th>\n",
       "      <td></td>\n",
       "      <td></td>\n",
       "      <td>851 (36.4)</td>\n",
       "      <td></td>\n",
       "      <td></td>\n",
       "    </tr>\n",
       "    <tr>\n",
       "      <th rowspan=\"2\" valign=\"top\">Label</th>\n",
       "      <th>0</th>\n",
       "      <td>0</td>\n",
       "      <td>4180 (100.0)</td>\n",
       "      <td></td>\n",
       "      <td>&lt;0.001</td>\n",
       "      <td>Chi-squared</td>\n",
       "    </tr>\n",
       "    <tr>\n",
       "      <th>1</th>\n",
       "      <td></td>\n",
       "      <td></td>\n",
       "      <td>2341 (100.0)</td>\n",
       "      <td></td>\n",
       "      <td></td>\n",
       "    </tr>\n",
       "  </tbody>\n",
       "</table>\n",
       "</div><br />[1] Warning, Hartigan's Dip Test reports possible multimodal distributions for: LOS, LOS_HOS.<br />[2] Warning, Tukey test indicates far outliers in: LOS, LOS_HOS.<br />[3] Warning, test for normality reports non-normal distributions for: AGE, LOS, LOS_HOS.<br />"
      ],
      "text/plain": [
       "                                                                  Grouped by Label                                                                               \n",
       "                                                                            isnull             0             1    pval                                      ptest\n",
       "variable       level                                                                                                                                             \n",
       "n                                                                                           4180          2341                                                   \n",
       "ADMISSION_TYPE ELECTIVE                                                          0    742 (17.8)     157 (6.7)  <0.001                                Chi-squared\n",
       "               EMERGENCY                                                             3390 (81.1)   2163 (92.4)                                                   \n",
       "               URGENT                                                                   48 (1.1)      21 (0.9)                                                   \n",
       "GENDER         F                                                                 0   1809 (43.3)   1009 (43.1)   0.911                                Chi-squared\n",
       "               M                                                                     2371 (56.7)   1332 (56.9)                                                   \n",
       "ETHNICITY      AMERICAN INDIAN/ALASKA NATIVE                                     0       4 (0.1)       2 (0.1)   0.004  Chi-squared (warning: expected count < 5)\n",
       "               AMERICAN INDIAN/ALASKA NATIVE FEDERALLY RECOGNI...                                      1 (0.0)                                                   \n",
       "               ASIAN                                                                    56 (1.3)      28 (1.2)                                                   \n",
       "               ASIAN - ASIAN INDIAN                                                     16 (0.4)       2 (0.1)                                                   \n",
       "               ASIAN - CAMBODIAN                                                         1 (0.0)                                                                 \n",
       "               ASIAN - CHINESE                                                          25 (0.6)      16 (0.7)                                                   \n",
       "               ASIAN - FILIPINO                                                          1 (0.0)       2 (0.1)                                                   \n",
       "               ASIAN - JAPANESE                                                          1 (0.0)       1 (0.0)                                                   \n",
       "               ASIAN - KOREAN                                                            3 (0.1)       1 (0.0)                                                   \n",
       "               ASIAN - OTHER                                                             1 (0.0)       1 (0.0)                                                   \n",
       "               ASIAN - THAI                                                              1 (0.0)                                                                 \n",
       "               ASIAN - VIETNAMESE                                                        6 (0.1)       3 (0.1)                                                   \n",
       "               BLACK/AFRICAN                                                             5 (0.1)       3 (0.1)                                                   \n",
       "               BLACK/AFRICAN AMERICAN                                                 424 (10.1)    240 (10.3)                                                   \n",
       "               BLACK/CAPE VERDEAN                                                       22 (0.5)      16 (0.7)                                                   \n",
       "               BLACK/HAITIAN                                                            10 (0.2)       2 (0.1)                                                   \n",
       "               CARIBBEAN ISLAND                                                          4 (0.1)                                                                 \n",
       "               HISPANIC OR LATINO                                                      140 (3.3)      47 (2.0)                                                   \n",
       "               HISPANIC/LATINO - CENTRAL AMERICAN (OTHER)                                3 (0.1)                                                                 \n",
       "               HISPANIC/LATINO - COLOMBIAN                                               1 (0.0)                                                                 \n",
       "               HISPANIC/LATINO - CUBAN                                                   5 (0.1)       1 (0.0)                                                   \n",
       "               HISPANIC/LATINO - DOMINICAN                                              11 (0.3)       4 (0.2)                                                   \n",
       "               HISPANIC/LATINO - GUATEMALAN                                              3 (0.1)       4 (0.2)                                                   \n",
       "               HISPANIC/LATINO - MEXICAN                                                 4 (0.1)       1 (0.0)                                                   \n",
       "               HISPANIC/LATINO - PUERTO RICAN                                           29 (0.7)      19 (0.8)                                                   \n",
       "               HISPANIC/LATINO - SALVADORAN                                              4 (0.1)                                                                 \n",
       "               MIDDLE EASTERN                                                            4 (0.1)       1 (0.0)                                                   \n",
       "               MULTI RACE ETHNICITY                                                      7 (0.2)       4 (0.2)                                                   \n",
       "               NATIVE HAWAIIAN OR OTHER PACIFIC ISLANDER                                 1 (0.0)                                                                 \n",
       "               OTHER                                                                    55 (1.3)      43 (1.8)                                                   \n",
       "               PATIENT DECLINED TO ANSWER                                               49 (1.2)      11 (0.5)                                                   \n",
       "               PORTUGUESE                                                                5 (0.1)      12 (0.5)                                                   \n",
       "               UNABLE TO OBTAIN                                                        106 (2.5)      40 (1.7)                                                   \n",
       "               UNKNOWN/NOT SPECIFIED                                                    80 (1.9)      33 (1.4)                                                   \n",
       "               WHITE                                                                 3060 (73.2)   1790 (76.5)                                                   \n",
       "               WHITE - BRAZILIAN                                                         9 (0.2)       2 (0.1)                                                   \n",
       "               WHITE - EASTERN EUROPEAN                                                  3 (0.1)                                                                 \n",
       "               WHITE - OTHER EUROPEAN                                                    7 (0.2)       4 (0.2)                                                   \n",
       "               WHITE - RUSSIAN                                                          14 (0.3)       7 (0.3)                                                   \n",
       "LOS                                                                              0     2.2 (1.4)     6.9 (8.1)  <0.001                          Two Sample T-test\n",
       "LOS_HOS                                                                          0     7.2 (6.2)   12.5 (11.4)  <0.001                          Two Sample T-test\n",
       "AGE                                                                              0   60.7 (17.0)   66.2 (15.2)  <0.001                          Two Sample T-test\n",
       "DEATH_HOSP     0                                                                 0  4180 (100.0)    542 (23.2)  <0.001                                Chi-squared\n",
       "               1                                                                                   1799 (76.8)                                                   \n",
       "LOS_7          0                                                                 0  4180 (100.0)   1490 (63.6)  <0.001                                Chi-squared\n",
       "               1                                                                                    851 (36.4)                                                   \n",
       "Label          0                                                                 0  4180 (100.0)                <0.001                                Chi-squared\n",
       "               1                                                                                  2341 (100.0)                                                   \n",
       "[1] Warning, Hartigan's Dip Test reports possible multimodal distributions for: LOS, LOS_HOS.\n",
       "[2] Warning, Tukey test indicates far outliers in: LOS, LOS_HOS.\n",
       "[3] Warning, test for normality reports non-normal distributions for: AGE, LOS, LOS_HOS."
      ]
     },
     "execution_count": 112,
     "metadata": {},
     "output_type": "execute_result"
    }
   ],
   "source": [
    "mytable"
   ]
  },
  {
   "cell_type": "code",
   "execution_count": 113,
   "metadata": {},
   "outputs": [
    {
     "data": {
      "text/html": [
       "<div>\n",
       "<style scoped>\n",
       "    .dataframe tbody tr th:only-of-type {\n",
       "        vertical-align: middle;\n",
       "    }\n",
       "\n",
       "    .dataframe tbody tr th {\n",
       "        vertical-align: top;\n",
       "    }\n",
       "\n",
       "    .dataframe thead th {\n",
       "        text-align: right;\n",
       "    }\n",
       "</style>\n",
       "<table border=\"1\" class=\"dataframe\">\n",
       "  <thead>\n",
       "    <tr style=\"text-align: right;\">\n",
       "      <th></th>\n",
       "      <th></th>\n",
       "      <th>isnull</th>\n",
       "      <th>overall</th>\n",
       "    </tr>\n",
       "    <tr>\n",
       "      <th>variable</th>\n",
       "      <th>level</th>\n",
       "      <th></th>\n",
       "      <th></th>\n",
       "    </tr>\n",
       "  </thead>\n",
       "  <tbody>\n",
       "    <tr>\n",
       "      <th>n</th>\n",
       "      <th></th>\n",
       "      <td></td>\n",
       "      <td>6521</td>\n",
       "    </tr>\n",
       "    <tr>\n",
       "      <th rowspan=\"3\" valign=\"top\">ADMISSION_TYPE</th>\n",
       "      <th>ELECTIVE</th>\n",
       "      <td>0</td>\n",
       "      <td>899 (13.8)</td>\n",
       "    </tr>\n",
       "    <tr>\n",
       "      <th>EMERGENCY</th>\n",
       "      <td></td>\n",
       "      <td>5553 (85.2)</td>\n",
       "    </tr>\n",
       "    <tr>\n",
       "      <th>URGENT</th>\n",
       "      <td></td>\n",
       "      <td>69 (1.1)</td>\n",
       "    </tr>\n",
       "    <tr>\n",
       "      <th rowspan=\"2\" valign=\"top\">GENDER</th>\n",
       "      <th>F</th>\n",
       "      <td>0</td>\n",
       "      <td>2818 (43.2)</td>\n",
       "    </tr>\n",
       "    <tr>\n",
       "      <th>M</th>\n",
       "      <td></td>\n",
       "      <td>3703 (56.8)</td>\n",
       "    </tr>\n",
       "    <tr>\n",
       "      <th rowspan=\"39\" valign=\"top\">ETHNICITY</th>\n",
       "      <th>AMERICAN INDIAN/ALASKA NATIVE</th>\n",
       "      <td>0</td>\n",
       "      <td>6 (0.1)</td>\n",
       "    </tr>\n",
       "    <tr>\n",
       "      <th>AMERICAN INDIAN/ALASKA NATIVE FEDERALLY RECOGNIZED TRIBE</th>\n",
       "      <td></td>\n",
       "      <td>1 (0.0)</td>\n",
       "    </tr>\n",
       "    <tr>\n",
       "      <th>ASIAN</th>\n",
       "      <td></td>\n",
       "      <td>84 (1.3)</td>\n",
       "    </tr>\n",
       "    <tr>\n",
       "      <th>ASIAN - ASIAN INDIAN</th>\n",
       "      <td></td>\n",
       "      <td>18 (0.3)</td>\n",
       "    </tr>\n",
       "    <tr>\n",
       "      <th>ASIAN - CAMBODIAN</th>\n",
       "      <td></td>\n",
       "      <td>1 (0.0)</td>\n",
       "    </tr>\n",
       "    <tr>\n",
       "      <th>ASIAN - CHINESE</th>\n",
       "      <td></td>\n",
       "      <td>41 (0.6)</td>\n",
       "    </tr>\n",
       "    <tr>\n",
       "      <th>ASIAN - FILIPINO</th>\n",
       "      <td></td>\n",
       "      <td>3 (0.0)</td>\n",
       "    </tr>\n",
       "    <tr>\n",
       "      <th>ASIAN - JAPANESE</th>\n",
       "      <td></td>\n",
       "      <td>2 (0.0)</td>\n",
       "    </tr>\n",
       "    <tr>\n",
       "      <th>ASIAN - KOREAN</th>\n",
       "      <td></td>\n",
       "      <td>4 (0.1)</td>\n",
       "    </tr>\n",
       "    <tr>\n",
       "      <th>ASIAN - OTHER</th>\n",
       "      <td></td>\n",
       "      <td>2 (0.0)</td>\n",
       "    </tr>\n",
       "    <tr>\n",
       "      <th>ASIAN - THAI</th>\n",
       "      <td></td>\n",
       "      <td>1 (0.0)</td>\n",
       "    </tr>\n",
       "    <tr>\n",
       "      <th>ASIAN - VIETNAMESE</th>\n",
       "      <td></td>\n",
       "      <td>9 (0.1)</td>\n",
       "    </tr>\n",
       "    <tr>\n",
       "      <th>BLACK/AFRICAN</th>\n",
       "      <td></td>\n",
       "      <td>8 (0.1)</td>\n",
       "    </tr>\n",
       "    <tr>\n",
       "      <th>BLACK/AFRICAN AMERICAN</th>\n",
       "      <td></td>\n",
       "      <td>664 (10.2)</td>\n",
       "    </tr>\n",
       "    <tr>\n",
       "      <th>BLACK/CAPE VERDEAN</th>\n",
       "      <td></td>\n",
       "      <td>38 (0.6)</td>\n",
       "    </tr>\n",
       "    <tr>\n",
       "      <th>BLACK/HAITIAN</th>\n",
       "      <td></td>\n",
       "      <td>12 (0.2)</td>\n",
       "    </tr>\n",
       "    <tr>\n",
       "      <th>CARIBBEAN ISLAND</th>\n",
       "      <td></td>\n",
       "      <td>4 (0.1)</td>\n",
       "    </tr>\n",
       "    <tr>\n",
       "      <th>HISPANIC OR LATINO</th>\n",
       "      <td></td>\n",
       "      <td>187 (2.9)</td>\n",
       "    </tr>\n",
       "    <tr>\n",
       "      <th>HISPANIC/LATINO - CENTRAL AMERICAN (OTHER)</th>\n",
       "      <td></td>\n",
       "      <td>3 (0.0)</td>\n",
       "    </tr>\n",
       "    <tr>\n",
       "      <th>HISPANIC/LATINO - COLOMBIAN</th>\n",
       "      <td></td>\n",
       "      <td>1 (0.0)</td>\n",
       "    </tr>\n",
       "    <tr>\n",
       "      <th>HISPANIC/LATINO - CUBAN</th>\n",
       "      <td></td>\n",
       "      <td>6 (0.1)</td>\n",
       "    </tr>\n",
       "    <tr>\n",
       "      <th>HISPANIC/LATINO - DOMINICAN</th>\n",
       "      <td></td>\n",
       "      <td>15 (0.2)</td>\n",
       "    </tr>\n",
       "    <tr>\n",
       "      <th>HISPANIC/LATINO - GUATEMALAN</th>\n",
       "      <td></td>\n",
       "      <td>7 (0.1)</td>\n",
       "    </tr>\n",
       "    <tr>\n",
       "      <th>HISPANIC/LATINO - MEXICAN</th>\n",
       "      <td></td>\n",
       "      <td>5 (0.1)</td>\n",
       "    </tr>\n",
       "    <tr>\n",
       "      <th>HISPANIC/LATINO - PUERTO RICAN</th>\n",
       "      <td></td>\n",
       "      <td>48 (0.7)</td>\n",
       "    </tr>\n",
       "    <tr>\n",
       "      <th>HISPANIC/LATINO - SALVADORAN</th>\n",
       "      <td></td>\n",
       "      <td>4 (0.1)</td>\n",
       "    </tr>\n",
       "    <tr>\n",
       "      <th>MIDDLE EASTERN</th>\n",
       "      <td></td>\n",
       "      <td>5 (0.1)</td>\n",
       "    </tr>\n",
       "    <tr>\n",
       "      <th>MULTI RACE ETHNICITY</th>\n",
       "      <td></td>\n",
       "      <td>11 (0.2)</td>\n",
       "    </tr>\n",
       "    <tr>\n",
       "      <th>NATIVE HAWAIIAN OR OTHER PACIFIC ISLANDER</th>\n",
       "      <td></td>\n",
       "      <td>1 (0.0)</td>\n",
       "    </tr>\n",
       "    <tr>\n",
       "      <th>OTHER</th>\n",
       "      <td></td>\n",
       "      <td>98 (1.5)</td>\n",
       "    </tr>\n",
       "    <tr>\n",
       "      <th>PATIENT DECLINED TO ANSWER</th>\n",
       "      <td></td>\n",
       "      <td>60 (0.9)</td>\n",
       "    </tr>\n",
       "    <tr>\n",
       "      <th>PORTUGUESE</th>\n",
       "      <td></td>\n",
       "      <td>17 (0.3)</td>\n",
       "    </tr>\n",
       "    <tr>\n",
       "      <th>UNABLE TO OBTAIN</th>\n",
       "      <td></td>\n",
       "      <td>146 (2.2)</td>\n",
       "    </tr>\n",
       "    <tr>\n",
       "      <th>UNKNOWN/NOT SPECIFIED</th>\n",
       "      <td></td>\n",
       "      <td>113 (1.7)</td>\n",
       "    </tr>\n",
       "    <tr>\n",
       "      <th>WHITE</th>\n",
       "      <td></td>\n",
       "      <td>4850 (74.4)</td>\n",
       "    </tr>\n",
       "    <tr>\n",
       "      <th>WHITE - BRAZILIAN</th>\n",
       "      <td></td>\n",
       "      <td>11 (0.2)</td>\n",
       "    </tr>\n",
       "    <tr>\n",
       "      <th>WHITE - EASTERN EUROPEAN</th>\n",
       "      <td></td>\n",
       "      <td>3 (0.0)</td>\n",
       "    </tr>\n",
       "    <tr>\n",
       "      <th>WHITE - OTHER EUROPEAN</th>\n",
       "      <td></td>\n",
       "      <td>11 (0.2)</td>\n",
       "    </tr>\n",
       "    <tr>\n",
       "      <th>WHITE - RUSSIAN</th>\n",
       "      <td></td>\n",
       "      <td>21 (0.3)</td>\n",
       "    </tr>\n",
       "    <tr>\n",
       "      <th>LOS</th>\n",
       "      <th></th>\n",
       "      <td>0</td>\n",
       "      <td>3.9 (5.4)</td>\n",
       "    </tr>\n",
       "    <tr>\n",
       "      <th>LOS_HOS</th>\n",
       "      <th></th>\n",
       "      <td>0</td>\n",
       "      <td>9.1 (8.8)</td>\n",
       "    </tr>\n",
       "    <tr>\n",
       "      <th>AGE</th>\n",
       "      <th></th>\n",
       "      <td>0</td>\n",
       "      <td>62.7 (16.5)</td>\n",
       "    </tr>\n",
       "    <tr>\n",
       "      <th rowspan=\"2\" valign=\"top\">DEATH_HOSP</th>\n",
       "      <th>0</th>\n",
       "      <td>0</td>\n",
       "      <td>4722 (72.4)</td>\n",
       "    </tr>\n",
       "    <tr>\n",
       "      <th>1</th>\n",
       "      <td></td>\n",
       "      <td>1799 (27.6)</td>\n",
       "    </tr>\n",
       "    <tr>\n",
       "      <th rowspan=\"2\" valign=\"top\">LOS_7</th>\n",
       "      <th>0</th>\n",
       "      <td>0</td>\n",
       "      <td>5670 (86.9)</td>\n",
       "    </tr>\n",
       "    <tr>\n",
       "      <th>1</th>\n",
       "      <td></td>\n",
       "      <td>851 (13.1)</td>\n",
       "    </tr>\n",
       "    <tr>\n",
       "      <th rowspan=\"2\" valign=\"top\">Label</th>\n",
       "      <th>0</th>\n",
       "      <td>0</td>\n",
       "      <td>4180 (64.1)</td>\n",
       "    </tr>\n",
       "    <tr>\n",
       "      <th>1</th>\n",
       "      <td></td>\n",
       "      <td>2341 (35.9)</td>\n",
       "    </tr>\n",
       "  </tbody>\n",
       "</table>\n",
       "</div><br />[1] Warning, Hartigan's Dip Test reports possible multimodal distributions for: LOS, LOS_HOS.<br />[2] Warning, Tukey test indicates far outliers in: LOS, LOS_HOS.<br />[3] Warning, test for normality reports non-normal distributions for: LOS, LOS_HOS, AGE.<br />"
      ],
      "text/plain": [
       "                                                                  isnull      overall\n",
       "variable       level                                                                 \n",
       "n                                                                                6521\n",
       "ADMISSION_TYPE ELECTIVE                                                0   899 (13.8)\n",
       "               EMERGENCY                                                  5553 (85.2)\n",
       "               URGENT                                                        69 (1.1)\n",
       "GENDER         F                                                       0  2818 (43.2)\n",
       "               M                                                          3703 (56.8)\n",
       "ETHNICITY      AMERICAN INDIAN/ALASKA NATIVE                           0      6 (0.1)\n",
       "               AMERICAN INDIAN/ALASKA NATIVE FEDERALLY RECOGNI...             1 (0.0)\n",
       "               ASIAN                                                         84 (1.3)\n",
       "               ASIAN - ASIAN INDIAN                                          18 (0.3)\n",
       "               ASIAN - CAMBODIAN                                              1 (0.0)\n",
       "               ASIAN - CHINESE                                               41 (0.6)\n",
       "               ASIAN - FILIPINO                                               3 (0.0)\n",
       "               ASIAN - JAPANESE                                               2 (0.0)\n",
       "               ASIAN - KOREAN                                                 4 (0.1)\n",
       "               ASIAN - OTHER                                                  2 (0.0)\n",
       "               ASIAN - THAI                                                   1 (0.0)\n",
       "               ASIAN - VIETNAMESE                                             9 (0.1)\n",
       "               BLACK/AFRICAN                                                  8 (0.1)\n",
       "               BLACK/AFRICAN AMERICAN                                      664 (10.2)\n",
       "               BLACK/CAPE VERDEAN                                            38 (0.6)\n",
       "               BLACK/HAITIAN                                                 12 (0.2)\n",
       "               CARIBBEAN ISLAND                                               4 (0.1)\n",
       "               HISPANIC OR LATINO                                           187 (2.9)\n",
       "               HISPANIC/LATINO - CENTRAL AMERICAN (OTHER)                     3 (0.0)\n",
       "               HISPANIC/LATINO - COLOMBIAN                                    1 (0.0)\n",
       "               HISPANIC/LATINO - CUBAN                                        6 (0.1)\n",
       "               HISPANIC/LATINO - DOMINICAN                                   15 (0.2)\n",
       "               HISPANIC/LATINO - GUATEMALAN                                   7 (0.1)\n",
       "               HISPANIC/LATINO - MEXICAN                                      5 (0.1)\n",
       "               HISPANIC/LATINO - PUERTO RICAN                                48 (0.7)\n",
       "               HISPANIC/LATINO - SALVADORAN                                   4 (0.1)\n",
       "               MIDDLE EASTERN                                                 5 (0.1)\n",
       "               MULTI RACE ETHNICITY                                          11 (0.2)\n",
       "               NATIVE HAWAIIAN OR OTHER PACIFIC ISLANDER                      1 (0.0)\n",
       "               OTHER                                                         98 (1.5)\n",
       "               PATIENT DECLINED TO ANSWER                                    60 (0.9)\n",
       "               PORTUGUESE                                                    17 (0.3)\n",
       "               UNABLE TO OBTAIN                                             146 (2.2)\n",
       "               UNKNOWN/NOT SPECIFIED                                        113 (1.7)\n",
       "               WHITE                                                      4850 (74.4)\n",
       "               WHITE - BRAZILIAN                                             11 (0.2)\n",
       "               WHITE - EASTERN EUROPEAN                                       3 (0.0)\n",
       "               WHITE - OTHER EUROPEAN                                        11 (0.2)\n",
       "               WHITE - RUSSIAN                                               21 (0.3)\n",
       "LOS                                                                    0    3.9 (5.4)\n",
       "LOS_HOS                                                                0    9.1 (8.8)\n",
       "AGE                                                                    0  62.7 (16.5)\n",
       "DEATH_HOSP     0                                                       0  4722 (72.4)\n",
       "               1                                                          1799 (27.6)\n",
       "LOS_7          0                                                       0  5670 (86.9)\n",
       "               1                                                           851 (13.1)\n",
       "Label          0                                                       0  4180 (64.1)\n",
       "               1                                                          2341 (35.9)\n",
       "[1] Warning, Hartigan's Dip Test reports possible multimodal distributions for: LOS, LOS_HOS.\n",
       "[2] Warning, Tukey test indicates far outliers in: LOS, LOS_HOS.\n",
       "[3] Warning, test for normality reports non-normal distributions for: LOS, LOS_HOS, AGE."
      ]
     },
     "execution_count": 113,
     "metadata": {},
     "output_type": "execute_result"
    }
   ],
   "source": [
    "groupby = ''\n",
    "TableOne(df_info_, columns, categorical, groupby)"
   ]
  },
  {
   "cell_type": "code",
   "execution_count": 139,
   "metadata": {},
   "outputs": [],
   "source": [
    "df_fin = df_final"
   ]
  },
  {
   "cell_type": "code",
   "execution_count": 151,
   "metadata": {},
   "outputs": [],
   "source": [
    "df_final = df_fin[df_fin.Label == 0]"
   ]
  },
  {
   "cell_type": "code",
   "execution_count": 152,
   "metadata": {},
   "outputs": [
    {
     "data": {
      "text/plain": [
       "5.940747935891209"
      ]
     },
     "execution_count": 152,
     "metadata": {},
     "output_type": "execute_result"
    }
   ],
   "source": [
    "np.mean(df_final[df_final.CATEGORY == 'Physician '].groupby('HADM_ID').TEXT.agg(len).values)"
   ]
  },
  {
   "cell_type": "code",
   "execution_count": 153,
   "metadata": {},
   "outputs": [
    {
     "data": {
      "text/plain": [
       "3.8018407167375874"
      ]
     },
     "execution_count": 153,
     "metadata": {},
     "output_type": "execute_result"
    }
   ],
   "source": [
    "np.std(df_final[df_final.CATEGORY == 'Physician '].groupby('HADM_ID').TEXT.agg(len).values)"
   ]
  },
  {
   "cell_type": "code",
   "execution_count": 154,
   "metadata": {},
   "outputs": [
    {
     "data": {
      "text/plain": [
       "9.1329646549651358"
      ]
     },
     "execution_count": 154,
     "metadata": {},
     "output_type": "execute_result"
    }
   ],
   "source": [
    "np.mean(df_final[df_final.CATEGORY.isin(['Nursing','Nursing/other'])].groupby('HADM_ID').TEXT.agg(len).values)"
   ]
  },
  {
   "cell_type": "code",
   "execution_count": 155,
   "metadata": {},
   "outputs": [
    {
     "data": {
      "text/plain": [
       "4.5985631464333094"
      ]
     },
     "execution_count": 155,
     "metadata": {},
     "output_type": "execute_result"
    }
   ],
   "source": [
    "np.std(df_final[df_final.CATEGORY.isin(['Nursing','Nursing/other'])].groupby('HADM_ID').TEXT.agg(len).values)"
   ]
  },
  {
   "cell_type": "code",
   "execution_count": 156,
   "metadata": {},
   "outputs": [],
   "source": [
    "word_count = pd.DataFrame(df_final[df_final.CATEGORY.isin(['Nursing','Nursing/other'])].groupby(['HADM_ID','Label']).TEXT.apply(' '.join)).TEXT.str.split().str.len() "
   ]
  },
  {
   "cell_type": "code",
   "execution_count": 157,
   "metadata": {},
   "outputs": [
    {
     "name": "stdout",
     "output_type": "stream",
     "text": [
      "2181.99350805\n",
      "1609.68578375\n"
     ]
    }
   ],
   "source": [
    "print(np.mean(word_count.values))\n",
    "print(np.std(word_count.values))"
   ]
  },
  {
   "cell_type": "code",
   "execution_count": 158,
   "metadata": {},
   "outputs": [],
   "source": [
    "word_count = pd.DataFrame(df_final[df_final.CATEGORY == 'Physician '].groupby(['HADM_ID','Label']).TEXT.apply(' '.join)).TEXT.str.split().str.len() "
   ]
  },
  {
   "cell_type": "code",
   "execution_count": 159,
   "metadata": {},
   "outputs": [
    {
     "name": "stdout",
     "output_type": "stream",
     "text": [
      "4241.26566294\n",
      "3130.57546684\n"
     ]
    }
   ],
   "source": [
    "print(np.mean(word_count.values))\n",
    "print(np.std(word_count.values))"
   ]
  },
  {
   "cell_type": "code",
   "execution_count": null,
   "metadata": {},
   "outputs": [],
   "source": []
  },
  {
   "cell_type": "code",
   "execution_count": null,
   "metadata": {},
   "outputs": [],
   "source": []
  }
 ],
 "metadata": {
  "kernelspec": {
   "display_name": "Python 3",
   "language": "python",
   "name": "python3"
  },
  "language_info": {
   "codemirror_mode": {
    "name": "ipython",
    "version": 3
   },
   "file_extension": ".py",
   "mimetype": "text/x-python",
   "name": "python",
   "nbconvert_exporter": "python",
   "pygments_lexer": "ipython3",
   "version": "3.6.3"
  }
 },
 "nbformat": 4,
 "nbformat_minor": 2
}
